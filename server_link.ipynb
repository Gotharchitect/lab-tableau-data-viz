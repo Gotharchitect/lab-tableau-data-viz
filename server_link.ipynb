lab-tableau-data-viz

NFL 
https://eu-west-1a.online.tableau.com/#/site/applieddatascience/workbooks/332478?:origin=card_share_link

BONUS
https://eu-west-1a.online.tableau.com/#/site/applieddatascience/workbooks/332477?:origin=card_share_link
